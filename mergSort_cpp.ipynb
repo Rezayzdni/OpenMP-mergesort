{
  "nbformat": 4,
  "nbformat_minor": 0,
  "metadata": {
    "colab": {
      "provenance": [],
      "gpuType": "T4"
    },
    "kernelspec": {
      "name": "python3",
      "display_name": "Python 3"
    },
    "language_info": {
      "name": "python"
    }
  },
  "cells": [
    {
      "cell_type": "code",
      "execution_count": 14,
      "metadata": {
        "colab": {
          "base_uri": "https://localhost:8080/"
        },
        "id": "MzTOtcA781oh",
        "outputId": "265b6810-8887-48d7-d05c-aab29d59c2cd"
      },
      "outputs": [
        {
          "output_type": "stream",
          "name": "stdout",
          "text": [
            "Overwriting merg_sort.cpp\n"
          ]
        }
      ],
      "source": [
        "%%writefile merg_sort.cpp\n",
        "#include <iostream>\n",
        "#include <omp.h>\n",
        "using namespace std;\n",
        "#define ARRAY_SIZE 256\n",
        "#define NUM_THREADS 8\n",
        "\n",
        "void swap(int* a, int* b) {\n",
        "    int temp = *a;\n",
        "    *a = *b;\n",
        "    *b = temp;\n",
        "}\n",
        "\n",
        "int partition(int* arr ,int low, int high) {\n",
        "    int pivot = arr[high];\n",
        "    int i = (low - 1);\n",
        "\n",
        "    for (int j = low; j <= high - 1; j++) {\n",
        "        if (arr[j] < pivot) {\n",
        "            i++;\n",
        "            swap(&arr[i], &arr[j]);\n",
        "        }\n",
        "    }\n",
        "    swap(&arr[i + 1], &arr[high]);\n",
        "    return (i + 1);\n",
        "}\n",
        "\n",
        "void quickSort(int* arr, int low, int high) {\n",
        "    if (low < high) {\n",
        "        int pi = partition(arr, low, high);\n",
        "        quickSort(arr, low, pi - 1);\n",
        "        quickSort(arr, pi + 1, high);\n",
        "    }\n",
        "}\n",
        "\n",
        "void merge(int* arr, int low, int mid, int high) {\n",
        "    int* temp = new int[high-low + 1];\n",
        "    int i = low, j = mid + 1, k = 0;\n",
        "\n",
        "    while (i <= mid && j <= high) {\n",
        "        if (arr[i] < arr[j])\n",
        "            temp[k++] = arr[i++];\n",
        "        else\n",
        "            temp[k++] = arr[j++];\n",
        "    }\n",
        "\n",
        "    while (i <= mid)\n",
        "        temp[k++] = arr[i++];\n",
        "\n",
        "    while (j <= high)\n",
        "        temp[k++] = arr[j++];\n",
        "\n",
        "    for (i = low; i <= high; i++)\n",
        "        arr[i] = temp[i - low];\n",
        "    delete[] temp;\n",
        "}\n",
        "\n",
        "int main() {\n",
        "    int* arr = new int[ARRAY_SIZE];\n",
        "    printf(\"Unsorted array: \\n\");\n",
        "    for (int i = 0; i < ARRAY_SIZE; i++) {\n",
        "        arr[i] = rand() % 100;  // Random values between 0 and 99\n",
        "        printf(\"%d \", arr[i]);\n",
        "    }\n",
        "    int chunk_size = ARRAY_SIZE / NUM_THREADS;\n",
        "    int i;\n",
        "\n",
        "\n",
        "    #pragma omp parallel num_threads(NUM_THREADS)\n",
        "    {\n",
        "        printf(\"thread index in quick sort is : %d \\n\",omp_get_thread_num());\n",
        "        int thread_num = omp_get_thread_num();\n",
        "        int start_index = thread_num * chunk_size;\n",
        "        int end_index = start_index + chunk_size - 1;\n",
        "\n",
        "        quickSort(arr, start_index, end_index);\n",
        "    }\n",
        "\n",
        "    // Merge the sorted parts in parallel\n",
        "    int step = 1;\n",
        "    int thread_step = 2;\n",
        "    while (step < NUM_THREADS) {\n",
        "        #pragma omp parallel for num_threads(NUM_THREADS/thread_step)\n",
        "        for (i = 0; i < NUM_THREADS; i += 2 * step) {\n",
        "            printf(\"thread index is : %d \\n\",omp_get_thread_num());\n",
        "            int start_index = i * chunk_size;\n",
        "            int mid_index = (i + step) * chunk_size - 1;\n",
        "            int end_index = (i + 2 * step) * chunk_size - 1;\n",
        "\n",
        "\n",
        "            merge(arr, start_index, mid_index, end_index);\n",
        "        }\n",
        "\n",
        "        step *= 2;\n",
        "        thread_step *= 2;\n",
        "    }\n",
        "\n",
        "    // Print the sorted array\n",
        "    printf(\"Sorted array: \\n\");\n",
        "    for (i = 0; i < ARRAY_SIZE; i++)\n",
        "        printf(\"%d \",arr[i]);\n",
        "    printf(\"\\n\");\n",
        "\n",
        "    delete[] arr;\n",
        "    return 0;\n",
        "}\n"
      ]
    },
    {
      "cell_type": "code",
      "source": [
        "! g++ merg_sort.cpp -o execfile -fopenmp"
      ],
      "metadata": {
        "id": "uV4YrVzMAsCk"
      },
      "execution_count": 15,
      "outputs": []
    },
    {
      "cell_type": "code",
      "source": [
        "! ./execfile"
      ],
      "metadata": {
        "colab": {
          "base_uri": "https://localhost:8080/"
        },
        "id": "XIcp4tdXA_Wu",
        "outputId": "bc09d50c-eb1d-48cd-e156-72973c826202"
      },
      "execution_count": 16,
      "outputs": [
        {
          "output_type": "stream",
          "name": "stdout",
          "text": [
            "Unsorted array: \n",
            "83 86 77 15 93 35 86 92 49 21 62 27 90 59 63 26 40 26 72 36 11 68 67 29 82 30 62 23 67 35 29 2 22 58 69 67 93 56 11 42 29 73 21 19 84 37 98 24 15 70 13 26 91 80 56 73 62 70 96 81 5 25 84 27 36 5 46 29 13 57 24 95 82 45 14 67 34 64 43 50 87 8 76 78 88 84 3 51 54 99 32 60 76 68 39 12 26 86 94 39 95 70 34 78 67 1 97 2 17 92 52 56 1 80 86 41 65 89 44 19 40 29 31 17 97 71 81 75 9 27 67 56 97 53 86 65 6 83 19 24 28 71 32 29 3 19 70 68 8 15 40 49 96 23 18 45 46 51 21 55 79 88 64 28 41 50 93 0 34 64 24 14 87 56 43 91 27 65 59 36 32 51 37 28 75 7 74 21 58 95 29 37 35 93 18 28 43 11 28 29 76 4 43 63 13 38 6 40 4 18 28 88 69 17 17 96 24 43 70 83 90 99 72 25 44 90 5 39 54 86 69 82 42 64 97 7 55 4 48 11 22 28 99 43 46 68 40 22 11 10 5 1 61 30 78 5 thread index in quick sort is : 5 \n",
            "thread index in quick sort is : 3 \n",
            "thread index in quick sort is : 4 \n",
            "thread index in quick sort is : 6 \n",
            "thread index in quick sort is : 7 \n",
            "thread index in quick sort is : 0 \n",
            "thread index in quick sort is : 2 \n",
            "thread index in quick sort is : 1 \n",
            "thread index is : 1 \n",
            "thread index is : 3 \n",
            "thread index is : 0 \n",
            "thread index is : 2 \n",
            "thread index is : 0 \n",
            "thread index is : 1 \n",
            "thread index is : 0 \n",
            "Sorted array: \n",
            "0 1 1 1 2 2 3 3 4 4 4 5 5 5 5 5 6 6 7 7 8 8 9 10 11 11 11 11 11 12 13 13 13 14 14 15 15 15 17 17 17 17 18 18 18 19 19 19 19 21 21 21 21 22 22 22 23 23 24 24 24 24 24 25 25 26 26 26 26 27 27 27 27 28 28 28 28 28 28 28 29 29 29 29 29 29 29 29 30 30 31 32 32 32 34 34 34 35 35 35 36 36 36 37 37 37 38 39 39 39 40 40 40 40 40 41 41 42 42 43 43 43 43 43 43 44 44 45 45 46 46 46 48 49 49 50 50 51 51 51 52 53 54 54 55 55 56 56 56 56 56 57 58 58 59 59 60 61 62 62 62 63 63 64 64 64 64 65 65 65 67 67 67 67 67 67 68 68 68 68 69 69 69 70 70 70 70 70 71 71 72 72 73 73 74 75 75 76 76 76 77 78 78 78 79 80 80 81 81 82 82 82 83 83 83 84 84 84 86 86 86 86 86 86 87 87 88 88 88 89 90 90 90 91 91 92 92 93 93 93 93 94 95 95 95 96 96 96 97 97 97 97 98 99 99 99 \n"
          ]
        }
      ]
    },
    {
      "cell_type": "code",
      "source": [],
      "metadata": {
        "id": "LO0RLXBsN0CR"
      },
      "execution_count": null,
      "outputs": []
    }
  ]
}